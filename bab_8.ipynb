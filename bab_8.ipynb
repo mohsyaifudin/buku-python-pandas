{
  "nbformat": 4,
  "nbformat_minor": 0,
  "metadata": {
    "colab": {
      "provenance": []
    },
    "kernelspec": {
      "name": "python3",
      "display_name": "Python 3"
    },
    "language_info": {
      "name": "python"
    }
  },
  "cells": [
    {
      "cell_type": "markdown",
      "source": [
        "Coba\n",
        "\n",
        "\n",
        "\n",
        "\n"
      ],
      "metadata": {
        "id": "20s8BK0Cvh1Q"
      }
    },
    {
      "cell_type": "code",
      "source": [
        "import pandas as pd\n",
        "\n",
        "# Membuat DataFrame\n",
        "data = {'Nama': ['John', 'Jane', 'Tom', 'Alice'],\n",
        "        'Usia': [28, 34, 25, 40]}\n",
        "df = pd.DataFrame(data)\n",
        "\n",
        "# Menggunakan list comprehension untuk menambahkan kolom baru\n",
        "df['Usia_Tahun_Depan'] = [age + 1 for age in df['Usia']]\n",
        "\n",
        "# Menggunakan lambda dengan apply() untuk menghitung panjang nama\n",
        "df['Panjang_Nama'] = df['Nama'].apply(lambda name: len(name))\n",
        "\n",
        "print(df)"
      ],
      "metadata": {
        "colab": {
          "base_uri": "https://localhost:8080/"
        },
        "id": "tAz-43Z-vmL8",
        "outputId": "0fac2ef0-1864-4e3d-a39f-38d234dc9aaa"
      },
      "execution_count": 3,
      "outputs": [
        {
          "output_type": "stream",
          "name": "stdout",
          "text": [
            "    Nama  Usia  Usia_Tahun_Depan  Panjang_Nama\n",
            "0   John    28                29             4\n",
            "1   Jane    34                35             4\n",
            "2    Tom    25                26             3\n",
            "3  Alice    40                41             5\n"
          ]
        }
      ]
    }
  ]
}