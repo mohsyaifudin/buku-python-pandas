{
  "nbformat": 4,
  "nbformat_minor": 0,
  "metadata": {
    "colab": {
      "provenance": [],
      "toc_visible": true
    },
    "kernelspec": {
      "name": "python3",
      "display_name": "Python 3"
    },
    "language_info": {
      "name": "python"
    }
  },
  "cells": [
    {
      "cell_type": "code",
      "source": [
        "x = 10\n",
        "y = 3\n",
        "\n",
        "# Penjumlahan\n",
        "print(x + y)  # Output: 13\n",
        "\n",
        "# Pengurangan\n",
        "print(x - y)  # Output: 7\n",
        "\n",
        "# Perkalian\n",
        "print(x * y)  # Output: 30\n",
        "\n",
        "# Pembagian (hasilnya adalah float)\n",
        "print(x / y)  # Output: 3.3333...\n",
        "\n",
        "# Pembagian dengan pembulatan ke bawah (floor division)\n",
        "print(x // y)  # Output: 3\n",
        "\n",
        "# Modulus (sisa pembagian)\n",
        "print(x % y)  # Output: 1\n"
      ],
      "metadata": {
        "colab": {
          "base_uri": "https://localhost:8080/"
        },
        "id": "YexU1vKOs3v6",
        "outputId": "f1d069eb-228a-4033-fffa-070839487d9c"
      },
      "execution_count": 1,
      "outputs": [
        {
          "output_type": "stream",
          "name": "stdout",
          "text": [
            "13\n",
            "7\n",
            "30\n",
            "3.3333333333333335\n",
            "3\n",
            "1\n"
          ]
        }
      ]
    },
    {
      "cell_type": "code",
      "source": [
        "a = 10.5\n",
        "b = 2.0\n",
        "\n",
        "# Penjumlahan\n",
        "print(a + b)  # Output: 12.5\n",
        "\n",
        "# Pembagian\n",
        "print(a / b)  # Output: 5.25\n",
        "\n",
        "# Perkalian\n",
        "print(a * b)  # Output: 21.0\n",
        "\n",
        "# Modulus\n",
        "print(a % b)  # Output: 0.5\n"
      ],
      "metadata": {
        "colab": {
          "base_uri": "https://localhost:8080/"
        },
        "id": "3b0Z_siJtYMC",
        "outputId": "de2756f5-6603-4928-d128-abf89338de5c"
      },
      "execution_count": 6,
      "outputs": [
        {
          "output_type": "stream",
          "name": "stdout",
          "text": [
            "12.5\n",
            "5.25\n",
            "21.0\n",
            "0.5\n"
          ]
        }
      ]
    },
    {
      "cell_type": "code",
      "source": [
        "text = \"Hello, Python!\"\n",
        "\n",
        "# Panjang string\n",
        "print(len(text))  # Output: 14\n",
        "\n",
        "# Mengubah menjadi huruf kapital\n",
        "print(text.upper())  # Output: \"HELLO, PYTHON!\"\n",
        "\n",
        "# Mengubah menjadi huruf kecil\n",
        "print(text.lower())  # Output: \"hello, python!\"\n",
        "\n",
        "# Mengganti bagian dari string\n",
        "print(text.replace(\"Python\", \"World\"))  # Output: \"Hello, World!\"\n",
        "\n",
        "# Memeriksa apakah string mengandung kata tertentu\n",
        "print(\"Python\" in text)  # Output: True\n",
        "\n",
        "# Menggabungkan string\n",
        "first_name = \"John\"\n",
        "last_name = \"Doe\"\n",
        "full_name = first_name + \" \" + last_name\n",
        "print(full_name)  # Output: \"John Doe\"\n"
      ],
      "metadata": {
        "colab": {
          "base_uri": "https://localhost:8080/"
        },
        "id": "t8aXWmW1tcyt",
        "outputId": "4a9b46f3-59cd-4273-b339-3c825692b8ee"
      },
      "execution_count": 7,
      "outputs": [
        {
          "output_type": "stream",
          "name": "stdout",
          "text": [
            "14\n",
            "HELLO, PYTHON!\n",
            "hello, python!\n",
            "Hello, World!\n",
            "True\n",
            "John Doe\n"
          ]
        }
      ]
    },
    {
      "cell_type": "code",
      "source": [
        "fruits = [\"apple\", \"banana\", \"cherry\"]\n",
        "\n",
        "# Akses elemen berdasarkan indeks\n",
        "print(fruits[0])  # Output: \"apple\"\n",
        "\n",
        "# Menambahkan elemen ke akhir list\n",
        "fruits.append(\"orange\")\n",
        "\n",
        "# Menyisipkan elemen pada posisi tertentu\n",
        "fruits.insert(1, \"grape\")\n",
        "\n",
        "# Menghapus elemen berdasarkan nilai\n",
        "fruits.remove(\"banana\")\n",
        "\n",
        "# Menghapus elemen berdasarkan indeks\n",
        "del fruits[2]\n",
        "\n",
        "# Menggabungkan dua list\n",
        "new_fruits = fruits + [\"melon\", \"kiwi\"]\n",
        "print(new_fruits)  # Output: ['apple', 'grape', 'orange', 'melon', 'kiwi']\n"
      ],
      "metadata": {
        "colab": {
          "base_uri": "https://localhost:8080/"
        },
        "id": "G-UOnp_6tf_M",
        "outputId": "c62e5306-5440-41fa-ccb7-55f6e8939055"
      },
      "execution_count": 8,
      "outputs": [
        {
          "output_type": "stream",
          "name": "stdout",
          "text": [
            "apple\n",
            "['apple', 'grape', 'orange', 'melon', 'kiwi']\n"
          ]
        }
      ]
    },
    {
      "cell_type": "code",
      "source": [
        "person = {\n",
        "    \"name\": \"John\",\n",
        "    \"age\": 30,\n",
        "    \"city\": \"New York\"\n",
        "}\n",
        "\n",
        "print(person[\"name\"])  # Output: \"John\"\n",
        "print(person[\"age\"])   # Output: 30\n"
      ],
      "metadata": {
        "colab": {
          "base_uri": "https://localhost:8080/"
        },
        "id": "oj-9zXlTtmhU",
        "outputId": "b8b1990d-1c1c-4dc6-e719-bd4ffb8a7b36"
      },
      "execution_count": 3,
      "outputs": [
        {
          "output_type": "stream",
          "name": "stdout",
          "text": [
            "John\n",
            "30\n"
          ]
        }
      ]
    },
    {
      "cell_type": "code",
      "source": [
        "person = {\"name\": \"Alice\", \"age\": 25}\n",
        "\n",
        "# Menambahkan pasangan kunci-nilai baru\n",
        "person[\"city\"] = \"Los Angeles\"\n",
        "\n",
        "# Mengubah nilai berdasarkan kunci\n",
        "person[\"age\"] = 26\n",
        "\n",
        "# Menghapus pasangan kunci-nilai\n",
        "del person[\"city\"]\n",
        "\n",
        "# Mengambil semua kunci atau nilai\n",
        "print(person.keys())  # Output: dict_keys(['name', 'age'])\n",
        "print(person.values())  # Output: dict_values(['Alice', 26])\n"
      ],
      "metadata": {
        "colab": {
          "base_uri": "https://localhost:8080/"
        },
        "id": "CajOv8ZytyQz",
        "outputId": "63815c26-11c4-411b-e587-9a8d9595e40a"
      },
      "execution_count": 5,
      "outputs": [
        {
          "output_type": "stream",
          "name": "stdout",
          "text": [
            "dict_keys(['name', 'age'])\n",
            "dict_values(['Alice', 26])\n"
          ]
        }
      ]
    },
    {
      "cell_type": "code",
      "source": [
        "# Operasi dengan integer\n",
        "x = 10\n",
        "y = 3\n",
        "\n",
        "print(\"Penjumlahan:\", x + y)  # Output: 13\n",
        "print(\"Pengurangan:\", x - y)  # Output: 7\n",
        "print(\"Perkalian:\", x * y)    # Output: 30\n",
        "print(\"Pembagian:\", x / y)    # Output: 3.3333...\n",
        "print(\"Pembagian dengan pembulatan:\", x // y)  # Output: 3\n",
        "print(\"Modulus:\", x % y)  # Output: 1\n",
        "print(\"Pangkat:\", x ** y)  # Output: 1000\n",
        "\n",
        "# Operasi dengan float\n",
        "a = 3.14\n",
        "b = 2.0\n",
        "\n",
        "print(\"Penjumlahan:\", a + b)  # Output: 5.14\n",
        "print(\"Perkalian:\", a * b)    # Output: 6.28\n"
      ],
      "metadata": {
        "colab": {
          "base_uri": "https://localhost:8080/"
        },
        "id": "9a8kXZ3KuE9g",
        "outputId": "712dd939-efd6-48ca-dffb-773219e154c2"
      },
      "execution_count": 9,
      "outputs": [
        {
          "output_type": "stream",
          "name": "stdout",
          "text": [
            "Penjumlahan: 13\n",
            "Pengurangan: 7\n",
            "Perkalian: 30\n",
            "Pembagian: 3.3333333333333335\n",
            "Pembagian dengan pembulatan: 3\n",
            "Modulus: 1\n",
            "Pangkat: 1000\n",
            "Penjumlahan: 5.140000000000001\n",
            "Perkalian: 6.28\n"
          ]
        }
      ]
    },
    {
      "cell_type": "code",
      "source": [
        "# Penggabungan string\n",
        "first_name = \"John\"\n",
        "last_name = \"Doe\"\n",
        "full_name = first_name + \" \" + last_name\n",
        "print(\"Nama Lengkap:\", full_name)  # Output: John Doe\n"
      ],
      "metadata": {
        "colab": {
          "base_uri": "https://localhost:8080/"
        },
        "id": "QS2sv6zbuH6D",
        "outputId": "0279525e-1461-4059-8f86-564ed1b4fbe1"
      },
      "execution_count": 10,
      "outputs": [
        {
          "output_type": "stream",
          "name": "stdout",
          "text": [
            "Nama Lengkap: John Doe\n"
          ]
        }
      ]
    },
    {
      "cell_type": "code",
      "source": [
        "# Pengulangan string\n",
        "greeting = \"Hello! \"\n",
        "print(greeting * 3)  # Output: Hello! Hello! Hello!\n"
      ],
      "metadata": {
        "colab": {
          "base_uri": "https://localhost:8080/"
        },
        "id": "XC4zlqjXuLTD",
        "outputId": "09b816b1-b2cf-48fc-db8e-5b23980c3417"
      },
      "execution_count": 11,
      "outputs": [
        {
          "output_type": "stream",
          "name": "stdout",
          "text": [
            "Hello! Hello! Hello! \n"
          ]
        }
      ]
    },
    {
      "cell_type": "code",
      "source": [
        "message = \"Python\"\n",
        "print(message[0])  # Output: P (Karakter pertama)\n",
        "print(message[-1])  # Output: n (Karakter terakhir)\n"
      ],
      "metadata": {
        "colab": {
          "base_uri": "https://localhost:8080/"
        },
        "id": "rQET04oNuOMA",
        "outputId": "8eee142f-be4e-47f1-9d58-c0bc2fcc2d78"
      },
      "execution_count": 12,
      "outputs": [
        {
          "output_type": "stream",
          "name": "stdout",
          "text": [
            "P\n",
            "n\n"
          ]
        }
      ]
    },
    {
      "cell_type": "code",
      "source": [
        "message = \"Hello, Python!\"\n",
        "print(message[0:5])  # Output: Hello (Karakter dari indeks 0 hingga 4)\n"
      ],
      "metadata": {
        "colab": {
          "base_uri": "https://localhost:8080/"
        },
        "id": "rZsVO8aOuRnN",
        "outputId": "5c536957-9bb9-4767-e885-326fd1036b9e"
      },
      "execution_count": 13,
      "outputs": [
        {
          "output_type": "stream",
          "name": "stdout",
          "text": [
            "Hello\n"
          ]
        }
      ]
    },
    {
      "cell_type": "code",
      "source": [
        "message = \"Hello, Python!\"\n",
        "print(message.upper())  # Output: HELLO, PYTHON!\n",
        "print(message.lower())  # Output: hello, python!\n"
      ],
      "metadata": {
        "colab": {
          "base_uri": "https://localhost:8080/"
        },
        "id": "lo4t4QHcuVNJ",
        "outputId": "6458415a-5232-485a-9469-16f3d02b7247"
      },
      "execution_count": 14,
      "outputs": [
        {
          "output_type": "stream",
          "name": "stdout",
          "text": [
            "HELLO, PYTHON!\n",
            "hello, python!\n"
          ]
        }
      ]
    },
    {
      "cell_type": "code",
      "source": [
        "fruits = [\"apple\", \"banana\", \"cherry\"]\n",
        "print(fruits[0])  # Output: apple (Elemen pertama)\n",
        "print(fruits[-1])  # Output: cherry (Elemen terakhir)\n"
      ],
      "metadata": {
        "colab": {
          "base_uri": "https://localhost:8080/"
        },
        "id": "Lu_S00qWuX6C",
        "outputId": "ed7d3bbd-2a26-442a-e893-6d3dc0bee1f5"
      },
      "execution_count": 15,
      "outputs": [
        {
          "output_type": "stream",
          "name": "stdout",
          "text": [
            "apple\n",
            "cherry\n"
          ]
        }
      ]
    },
    {
      "cell_type": "code",
      "source": [
        "fruits.append(\"orange\")  # Menambahkan \"orange\" di akhir list\n",
        "print(fruits)  # Output: ['apple', 'banana', 'cherry', 'orange']\n",
        "\n",
        "fruits.insert(1, \"grape\")  # Menambahkan \"grape\" di posisi indeks 1\n",
        "print(fruits)  # Output: ['apple', 'grape', 'banana', 'cherry', 'orange']\n"
      ],
      "metadata": {
        "colab": {
          "base_uri": "https://localhost:8080/"
        },
        "id": "EovQfK9FubLb",
        "outputId": "73ad4ecc-3ab5-4307-f4e8-1050ffee2284"
      },
      "execution_count": 16,
      "outputs": [
        {
          "output_type": "stream",
          "name": "stdout",
          "text": [
            "['apple', 'banana', 'cherry', 'orange']\n",
            "['apple', 'grape', 'banana', 'cherry', 'orange']\n"
          ]
        }
      ]
    },
    {
      "cell_type": "code",
      "source": [
        "fruits.remove(\"banana\")  # Menghapus elemen dengan nilai \"banana\"\n",
        "print(fruits)  # Output: ['apple', 'grape', 'cherry', 'orange']\n",
        "\n",
        "del fruits[1]  # Menghapus elemen pada indeks 1\n",
        "print(fruits)  # Output: ['apple', 'cherry', 'orange']\n"
      ],
      "metadata": {
        "colab": {
          "base_uri": "https://localhost:8080/"
        },
        "id": "biL7ejrdud5p",
        "outputId": "5eb61289-3f9b-4270-f2a5-e5524178d2a8"
      },
      "execution_count": 17,
      "outputs": [
        {
          "output_type": "stream",
          "name": "stdout",
          "text": [
            "['apple', 'grape', 'cherry', 'orange']\n",
            "['apple', 'cherry', 'orange']\n"
          ]
        }
      ]
    },
    {
      "cell_type": "code",
      "source": [
        "list1 = [\"apple\", \"banana\"]\n",
        "list2 = [\"cherry\", \"date\"]\n",
        "\n",
        "combined = list1 + list2  # Menggabungkan list\n",
        "print(combined)  # Output: ['apple', 'banana', 'cherry', 'date']\n",
        "\n",
        "list1.extend(list2)  # Menambahkan semua elemen list2 ke list1\n",
        "print(list1)  # Output: ['apple', 'banana', 'cherry', 'date']\n"
      ],
      "metadata": {
        "colab": {
          "base_uri": "https://localhost:8080/"
        },
        "id": "iYL1Kp9puhDN",
        "outputId": "48351fe2-62b2-4143-c606-d7ed6ec2e8e1"
      },
      "execution_count": 18,
      "outputs": [
        {
          "output_type": "stream",
          "name": "stdout",
          "text": [
            "['apple', 'banana', 'cherry', 'date']\n",
            "['apple', 'banana', 'cherry', 'date']\n"
          ]
        }
      ]
    },
    {
      "cell_type": "code",
      "source": [
        "print(\"banana\" in fruits)  # Output: False\n"
      ],
      "metadata": {
        "colab": {
          "base_uri": "https://localhost:8080/"
        },
        "id": "3WPgase0ukvv",
        "outputId": "1f85cc5e-1bdb-435d-f59a-609aea767e2a"
      },
      "execution_count": 19,
      "outputs": [
        {
          "output_type": "stream",
          "name": "stdout",
          "text": [
            "False\n"
          ]
        }
      ]
    },
    {
      "cell_type": "code",
      "source": [
        "person = {\"name\": \"Alice\", \"age\": 25, \"city\": \"New York\"}\n",
        "print(person[\"name\"])  # Output: Alice\n"
      ],
      "metadata": {
        "colab": {
          "base_uri": "https://localhost:8080/"
        },
        "id": "2uN_V2JEunn_",
        "outputId": "e3123e47-1111-4423-8ed3-eb9473f0ed9c"
      },
      "execution_count": 20,
      "outputs": [
        {
          "output_type": "stream",
          "name": "stdout",
          "text": [
            "Alice\n"
          ]
        }
      ]
    },
    {
      "cell_type": "code",
      "source": [
        "person[\"age\"] = 26  # Mengubah nilai kunci \"age\"\n",
        "person[\"country\"] = \"USA\"  # Menambahkan pasangan kunci-nilai baru\n",
        "print(person)\n"
      ],
      "metadata": {
        "colab": {
          "base_uri": "https://localhost:8080/"
        },
        "id": "pAd6bM_jup_A",
        "outputId": "990c5dd3-8b11-4f08-e3f8-a66e946e17fa"
      },
      "execution_count": 21,
      "outputs": [
        {
          "output_type": "stream",
          "name": "stdout",
          "text": [
            "{'name': 'Alice', 'age': 26, 'city': 'New York', 'country': 'USA'}\n"
          ]
        }
      ]
    },
    {
      "cell_type": "code",
      "source": [
        "del person[\"city\"]  # Menghapus pasangan kunci-nilai dengan kunci \"city\"\n",
        "print(person)\n"
      ],
      "metadata": {
        "colab": {
          "base_uri": "https://localhost:8080/"
        },
        "id": "7fEgeXTMusoG",
        "outputId": "e58fd4a0-1783-4f43-ae1d-2c61a677b4a7"
      },
      "execution_count": 22,
      "outputs": [
        {
          "output_type": "stream",
          "name": "stdout",
          "text": [
            "{'name': 'Alice', 'age': 26, 'country': 'USA'}\n"
          ]
        }
      ]
    },
    {
      "cell_type": "code",
      "source": [
        "print(person.keys())   # Output: dict_keys(['name', 'age', 'country'])\n",
        "print(person.values())  # Output: dict_values(['Alice', 26, 'USA'])\n"
      ],
      "metadata": {
        "colab": {
          "base_uri": "https://localhost:8080/"
        },
        "id": "aKTzxNrMuvOL",
        "outputId": "af68a731-d2c0-4e5b-f2f8-591b457cf4ab"
      },
      "execution_count": 23,
      "outputs": [
        {
          "output_type": "stream",
          "name": "stdout",
          "text": [
            "dict_keys(['name', 'age', 'country'])\n",
            "dict_values(['Alice', 26, 'USA'])\n"
          ]
        }
      ]
    },
    {
      "cell_type": "code",
      "source": [
        "# Menggunakan if-else untuk memeriksa angka\n",
        "number = 10\n",
        "\n",
        "if number > 0:\n",
        "    print(\"Angka positif\")\n",
        "else:\n",
        "    print(\"Angka negatif atau nol\")\n"
      ],
      "metadata": {
        "colab": {
          "base_uri": "https://localhost:8080/"
        },
        "id": "8-VPU6_EuzEG",
        "outputId": "8cfd9afe-d3ed-474f-8e61-c7485a9d00ac"
      },
      "execution_count": 25,
      "outputs": [
        {
          "output_type": "stream",
          "name": "stdout",
          "text": [
            "Angka positif\n"
          ]
        }
      ]
    },
    {
      "cell_type": "code",
      "source": [
        "age = 20\n",
        "\n",
        "if age < 18:\n",
        "    print(\"Anak-anak\")\n",
        "elif 18 <= age < 60:\n",
        "    print(\"Dewasa\")\n",
        "else:\n",
        "    print(\"Lansia\")\n"
      ],
      "metadata": {
        "colab": {
          "base_uri": "https://localhost:8080/"
        },
        "id": "UaiusIwSu6r0",
        "outputId": "3409c7a3-71b0-4414-ed94-0df2cbe96f88"
      },
      "execution_count": 26,
      "outputs": [
        {
          "output_type": "stream",
          "name": "stdout",
          "text": [
            "Dewasa\n"
          ]
        }
      ]
    },
    {
      "cell_type": "code",
      "source": [
        "# Mengulangi angka dalam list\n",
        "numbers = [1, 2, 3, 4, 5]\n",
        "\n",
        "for num in numbers:\n",
        "    print(num)\n"
      ],
      "metadata": {
        "colab": {
          "base_uri": "https://localhost:8080/"
        },
        "id": "8J0Viih8vo5y",
        "outputId": "bd5600d1-9ad4-4892-82d9-cff272a3fde3"
      },
      "execution_count": 27,
      "outputs": [
        {
          "output_type": "stream",
          "name": "stdout",
          "text": [
            "1\n",
            "2\n",
            "3\n",
            "4\n",
            "5\n"
          ]
        }
      ]
    },
    {
      "cell_type": "code",
      "source": [
        "# Menggunakan range untuk perulangan\n",
        "for i in range(1, 6):  # Rentang dari 1 hingga 5\n",
        "    print(i)\n"
      ],
      "metadata": {
        "colab": {
          "base_uri": "https://localhost:8080/"
        },
        "id": "nVsQxbhBvsL_",
        "outputId": "e2d45a1d-9e62-4620-be40-de9d54dcec4f"
      },
      "execution_count": 28,
      "outputs": [
        {
          "output_type": "stream",
          "name": "stdout",
          "text": [
            "1\n",
            "2\n",
            "3\n",
            "4\n",
            "5\n"
          ]
        }
      ]
    },
    {
      "cell_type": "code",
      "source": [
        "numbers = [1, 2, 3, 4, 5]\n",
        "total = 0\n",
        "\n",
        "for num in numbers:\n",
        "    total += num\n",
        "\n",
        "print(\"Total:\", total)  # Output: 15\n"
      ],
      "metadata": {
        "colab": {
          "base_uri": "https://localhost:8080/"
        },
        "id": "KDJuefGHvvge",
        "outputId": "6ba04cab-0f4d-4baa-bc5a-5f419fdb5ad2"
      },
      "execution_count": 29,
      "outputs": [
        {
          "output_type": "stream",
          "name": "stdout",
          "text": [
            "Total: 15\n"
          ]
        }
      ]
    },
    {
      "cell_type": "code",
      "source": [
        "# Menggunakan while untuk mencetak angka 1 hingga 5\n",
        "count = 1\n",
        "\n",
        "while count <= 5:\n",
        "    print(count)\n",
        "    count += 1\n"
      ],
      "metadata": {
        "colab": {
          "base_uri": "https://localhost:8080/"
        },
        "id": "2_IK2z_WvzSM",
        "outputId": "c9299640-cdfa-4998-d50a-38bc3168bb9e"
      },
      "execution_count": 30,
      "outputs": [
        {
          "output_type": "stream",
          "name": "stdout",
          "text": [
            "1\n",
            "2\n",
            "3\n",
            "4\n",
            "5\n"
          ]
        }
      ]
    },
    {
      "cell_type": "code",
      "source": [
        "# Menggunakan break untuk menghentikan loop\n",
        "for i in range(1, 10):\n",
        "    if i == 5:\n",
        "        break  # Loop dihentikan saat i mencapai 5\n",
        "    print(i)\n"
      ],
      "metadata": {
        "colab": {
          "base_uri": "https://localhost:8080/"
        },
        "id": "w6VJ0R_5v2vF",
        "outputId": "fc371c31-323c-4d62-dde1-616556f694d2"
      },
      "execution_count": 31,
      "outputs": [
        {
          "output_type": "stream",
          "name": "stdout",
          "text": [
            "1\n",
            "2\n",
            "3\n",
            "4\n"
          ]
        }
      ]
    },
    {
      "cell_type": "code",
      "source": [
        "# Menggunakan continue untuk melewatkan iterasi\n",
        "for i in range(1, 10):\n",
        "    if i == 5:\n",
        "        continue  # Melewatkan angka 5\n",
        "    print(i)\n"
      ],
      "metadata": {
        "colab": {
          "base_uri": "https://localhost:8080/"
        },
        "id": "CZgABpfCv7Fx",
        "outputId": "dcda30ab-0e68-4572-8e2e-1471483782e6"
      },
      "execution_count": 32,
      "outputs": [
        {
          "output_type": "stream",
          "name": "stdout",
          "text": [
            "1\n",
            "2\n",
            "3\n",
            "4\n",
            "6\n",
            "7\n",
            "8\n",
            "9\n"
          ]
        }
      ]
    },
    {
      "cell_type": "code",
      "source": [
        "numbers = [1, 2, 3, 4, 5]\n",
        "\n",
        "for num in numbers:\n",
        "    if num % 2 == 0:\n",
        "        print(num, \"adalah genap\")\n",
        "    else:\n",
        "        print(num, \"adalah ganjil\")\n"
      ],
      "metadata": {
        "colab": {
          "base_uri": "https://localhost:8080/"
        },
        "id": "z69dXbcwv-Ie",
        "outputId": "3c9d742f-c1b2-4f2a-c9ec-c84b80f393a2"
      },
      "execution_count": 33,
      "outputs": [
        {
          "output_type": "stream",
          "name": "stdout",
          "text": [
            "1 adalah ganjil\n",
            "2 adalah genap\n",
            "3 adalah ganjil\n",
            "4 adalah genap\n",
            "5 adalah ganjil\n"
          ]
        }
      ]
    },
    {
      "cell_type": "code",
      "source": [
        "def tambah(a, b):\n",
        "    hasil = a + b\n",
        "    return hasil\n",
        "\n",
        "# Memanggil fungsi\n",
        "result = tambah(3, 5)\n",
        "print(result)  # Output: 8\n"
      ],
      "metadata": {
        "colab": {
          "base_uri": "https://localhost:8080/"
        },
        "id": "6GfPcjbQwCN4",
        "outputId": "46ea6dcf-c94b-4a20-bed9-111247394306"
      },
      "execution_count": 35,
      "outputs": [
        {
          "output_type": "stream",
          "name": "stdout",
          "text": [
            "8\n"
          ]
        }
      ]
    },
    {
      "cell_type": "code",
      "source": [
        "def salam():\n",
        "    print(\"Halo, selamat datang!\")\n",
        "\n",
        "# Memanggil fungsi\n",
        "salam()  # Output: Halo, selamat datang!\n"
      ],
      "metadata": {
        "colab": {
          "base_uri": "https://localhost:8080/"
        },
        "id": "94g2M5A5wJEJ",
        "outputId": "60de2e8b-032f-43cd-cbea-503693bfca2c"
      },
      "execution_count": 36,
      "outputs": [
        {
          "output_type": "stream",
          "name": "stdout",
          "text": [
            "Halo, selamat datang!\n"
          ]
        }
      ]
    },
    {
      "cell_type": "code",
      "source": [
        "def cetak_data(data):\n",
        "    print(f\"Data yang diterima: {data}\")\n",
        "\n",
        "# Memanggil fungsi\n",
        "cetak_data(\"Python\")  # Output: Data yang diterima: Python\n"
      ],
      "metadata": {
        "colab": {
          "base_uri": "https://localhost:8080/"
        },
        "id": "VM3WxD8awM5D",
        "outputId": "aa7678b9-57c7-4d01-aa52-9fbf1f1523ed"
      },
      "execution_count": 37,
      "outputs": [
        {
          "output_type": "stream",
          "name": "stdout",
          "text": [
            "Data yang diterima: Python\n"
          ]
        }
      ]
    },
    {
      "cell_type": "code",
      "source": [
        "def halo(nama, umur=30):\n",
        "    print(f\"Halo {nama}, umur Anda adalah {umur} tahun\")\n",
        "\n",
        "# Memanggil fungsi dengan umur default\n",
        "halo(\"Alice\")  # Output: Halo Alice, umur Anda adalah 30 tahun\n",
        "\n",
        "# Memanggil fungsi dengan umur yang ditentukan\n",
        "halo(\"Bob\", 35)  # Output: Halo Bob, umur Anda adalah 35 tahun\n"
      ],
      "metadata": {
        "colab": {
          "base_uri": "https://localhost:8080/"
        },
        "id": "_FgQCQF-wQY4",
        "outputId": "be25a16d-5a93-44b2-f28a-5bb2d665a5c4"
      },
      "execution_count": 38,
      "outputs": [
        {
          "output_type": "stream",
          "name": "stdout",
          "text": [
            "Halo Alice, umur Anda adalah 30 tahun\n",
            "Halo Bob, umur Anda adalah 35 tahun\n"
          ]
        }
      ]
    },
    {
      "cell_type": "code",
      "source": [
        "def perkalian(x, y):\n",
        "    return x * y\n",
        "\n",
        "result = perkalian(4, 5)\n",
        "print(result)  # Output: 20\n"
      ],
      "metadata": {
        "colab": {
          "base_uri": "https://localhost:8080/"
        },
        "id": "Nlj1QwGBwTei",
        "outputId": "53832a48-4dbe-4fea-fb56-5c15298fdbdc"
      },
      "execution_count": 39,
      "outputs": [
        {
          "output_type": "stream",
          "name": "stdout",
          "text": [
            "20\n"
          ]
        }
      ]
    },
    {
      "cell_type": "code",
      "source": [
        "def info_pegawai(nama, usia, posisi):\n",
        "    print(f\"Nama: {nama}, Usia: {usia}, Posisi: {posisi}\")\n",
        "\n",
        "# Memanggil fungsi dengan tipe data yang berbeda\n",
        "info_pegawai(\"John\", 30, \"Developer\")\n",
        "# Output: Nama: John, Usia: 30, Posisi: Developer\n"
      ],
      "metadata": {
        "colab": {
          "base_uri": "https://localhost:8080/"
        },
        "id": "iokRMdmUwW5m",
        "outputId": "07c28828-62ac-44d6-ba35-b29b71115dfa"
      },
      "execution_count": 40,
      "outputs": [
        {
          "output_type": "stream",
          "name": "stdout",
          "text": [
            "Nama: John, Usia: 30, Posisi: Developer\n"
          ]
        }
      ]
    },
    {
      "cell_type": "code",
      "source": [
        "def hitung_rata_rata(nilai):\n",
        "    return sum(nilai) / len(nilai)\n",
        "\n",
        "# Memanggil fungsi dengan list\n",
        "nilai_mahasiswa = [85, 90, 78, 92, 88]\n",
        "rata_rata = hitung_rata_rata(nilai_mahasiswa)\n",
        "print(f\"Rata-rata nilai mahasiswa: {rata_rata}\")  # Output: Rata-rata nilai mahasiswa: 86.6\n"
      ],
      "metadata": {
        "colab": {
          "base_uri": "https://localhost:8080/"
        },
        "id": "eiLtKX6mwaZz",
        "outputId": "a89a6e00-261f-425c-892d-9a56c8b3379a"
      },
      "execution_count": 41,
      "outputs": [
        {
          "output_type": "stream",
          "name": "stdout",
          "text": [
            "Rata-rata nilai mahasiswa: 86.6\n"
          ]
        }
      ]
    },
    {
      "cell_type": "code",
      "source": [
        "import pandas as pd\n",
        "\n",
        "# Fungsi untuk menghapus nilai yang hilang\n",
        "def hapus_data_kosong(df):\n",
        "    return df.dropna()\n",
        "\n",
        "# Fungsi untuk mengganti nilai yang salah\n",
        "def ganti_nilai_salah(df, kolom, nilai_lama, nilai_baru):\n",
        "    df[kolom] = df[kolom].replace(nilai_lama, nilai_baru)\n",
        "    return df\n",
        "\n",
        "# Fungsi untuk mengubah tipe data\n",
        "def ubah_tipe_data(df, kolom, tipe_baru):\n",
        "    df[kolom] = df[kolom].astype(tipe_baru)\n",
        "    return df\n",
        "\n",
        "# Contoh penggunaan\n",
        "data = {'Nama': ['John', 'Jane', 'Tom', None],\n",
        "        'Usia': [28, 34, None, 25]}\n",
        "df = pd.DataFrame(data)\n",
        "\n",
        "# Membersihkan data dengan fungsi\n",
        "df_cleaned = hapus_data_kosong(df)\n",
        "df_cleaned = ganti_nilai_salah(df_cleaned, 'Usia', None, 30)\n",
        "df_cleaned = ubah_tipe_data(df_cleaned, 'Usia', 'int')\n",
        "\n",
        "print(df_cleaned)\n"
      ],
      "metadata": {
        "colab": {
          "base_uri": "https://localhost:8080/",
          "height": 391
        },
        "id": "OTljWFDpwdse",
        "outputId": "88f19b7f-54b0-4452-df30-e4eab313d11c"
      },
      "execution_count": 47,
      "outputs": [
        {
          "output_type": "error",
          "ename": "TypeError",
          "evalue": "'regex' must be a string or a compiled regular expression or a list or dict of strings or regular expressions, you passed a 'bool'",
          "traceback": [
            "\u001b[0;31m---------------------------------------------------------------------------\u001b[0m",
            "\u001b[0;31mTypeError\u001b[0m                                 Traceback (most recent call last)",
            "\u001b[0;32m<ipython-input-47-83a78800b682>\u001b[0m in \u001b[0;36m<cell line: 0>\u001b[0;34m()\u001b[0m\n\u001b[1;32m     22\u001b[0m \u001b[0;31m# Membersihkan data dengan fungsi\u001b[0m\u001b[0;34m\u001b[0m\u001b[0;34m\u001b[0m\u001b[0m\n\u001b[1;32m     23\u001b[0m \u001b[0mdf_cleaned\u001b[0m \u001b[0;34m=\u001b[0m \u001b[0mhapus_data_kosong\u001b[0m\u001b[0;34m(\u001b[0m\u001b[0mdf\u001b[0m\u001b[0;34m)\u001b[0m\u001b[0;34m\u001b[0m\u001b[0;34m\u001b[0m\u001b[0m\n\u001b[0;32m---> 24\u001b[0;31m \u001b[0mdf_cleaned\u001b[0m \u001b[0;34m=\u001b[0m \u001b[0mganti_nilai_salah\u001b[0m\u001b[0;34m(\u001b[0m\u001b[0mdf_cleaned\u001b[0m\u001b[0;34m,\u001b[0m \u001b[0;34m'Usia'\u001b[0m\u001b[0;34m,\u001b[0m \u001b[0;32mNone\u001b[0m\u001b[0;34m,\u001b[0m \u001b[0;36m30\u001b[0m\u001b[0;34m)\u001b[0m\u001b[0;34m\u001b[0m\u001b[0;34m\u001b[0m\u001b[0m\n\u001b[0m\u001b[1;32m     25\u001b[0m \u001b[0mdf_cleaned\u001b[0m \u001b[0;34m=\u001b[0m \u001b[0mubah_tipe_data\u001b[0m\u001b[0;34m(\u001b[0m\u001b[0mdf_cleaned\u001b[0m\u001b[0;34m,\u001b[0m \u001b[0;34m'Usia'\u001b[0m\u001b[0;34m,\u001b[0m \u001b[0;34m'int'\u001b[0m\u001b[0;34m)\u001b[0m\u001b[0;34m\u001b[0m\u001b[0;34m\u001b[0m\u001b[0m\n\u001b[1;32m     26\u001b[0m \u001b[0;34m\u001b[0m\u001b[0m\n",
            "\u001b[0;32m<ipython-input-47-83a78800b682>\u001b[0m in \u001b[0;36mganti_nilai_salah\u001b[0;34m(df, kolom, nilai_lama, nilai_baru)\u001b[0m\n\u001b[1;32m      7\u001b[0m \u001b[0;31m# Fungsi untuk mengganti nilai yang salah\u001b[0m\u001b[0;34m\u001b[0m\u001b[0;34m\u001b[0m\u001b[0m\n\u001b[1;32m      8\u001b[0m \u001b[0;32mdef\u001b[0m \u001b[0mganti_nilai_salah\u001b[0m\u001b[0;34m(\u001b[0m\u001b[0mdf\u001b[0m\u001b[0;34m,\u001b[0m \u001b[0mkolom\u001b[0m\u001b[0;34m,\u001b[0m \u001b[0mnilai_lama\u001b[0m\u001b[0;34m,\u001b[0m \u001b[0mnilai_baru\u001b[0m\u001b[0;34m)\u001b[0m\u001b[0;34m:\u001b[0m\u001b[0;34m\u001b[0m\u001b[0;34m\u001b[0m\u001b[0m\n\u001b[0;32m----> 9\u001b[0;31m     \u001b[0mdf\u001b[0m\u001b[0;34m[\u001b[0m\u001b[0mkolom\u001b[0m\u001b[0;34m]\u001b[0m \u001b[0;34m=\u001b[0m \u001b[0mdf\u001b[0m\u001b[0;34m[\u001b[0m\u001b[0mkolom\u001b[0m\u001b[0;34m]\u001b[0m\u001b[0;34m.\u001b[0m\u001b[0mreplace\u001b[0m\u001b[0;34m(\u001b[0m\u001b[0mnilai_lama\u001b[0m\u001b[0;34m,\u001b[0m \u001b[0mnilai_baru\u001b[0m\u001b[0;34m)\u001b[0m\u001b[0;34m\u001b[0m\u001b[0;34m\u001b[0m\u001b[0m\n\u001b[0m\u001b[1;32m     10\u001b[0m     \u001b[0;32mreturn\u001b[0m \u001b[0mdf\u001b[0m\u001b[0;34m\u001b[0m\u001b[0;34m\u001b[0m\u001b[0m\n\u001b[1;32m     11\u001b[0m \u001b[0;34m\u001b[0m\u001b[0m\n",
            "\u001b[0;32m/usr/local/lib/python3.11/dist-packages/pandas/core/generic.py\u001b[0m in \u001b[0;36mreplace\u001b[0;34m(self, to_replace, value, inplace, limit, regex, method)\u001b[0m\n\u001b[1;32m   8110\u001b[0m                     \u001b[0;32mor\u001b[0m \u001b[0mis_dict_like\u001b[0m\u001b[0;34m(\u001b[0m\u001b[0mregex\u001b[0m\u001b[0;34m)\u001b[0m\u001b[0;34m\u001b[0m\u001b[0;34m\u001b[0m\u001b[0m\n\u001b[1;32m   8111\u001b[0m                 ):\n\u001b[0;32m-> 8112\u001b[0;31m                     raise TypeError(\n\u001b[0m\u001b[1;32m   8113\u001b[0m                         \u001b[0;34mf\"'regex' must be a string or a compiled regular expression \"\u001b[0m\u001b[0;34m\u001b[0m\u001b[0;34m\u001b[0m\u001b[0m\n\u001b[1;32m   8114\u001b[0m                         \u001b[0;34mf\"or a list or dict of strings or regular expressions, \"\u001b[0m\u001b[0;34m\u001b[0m\u001b[0;34m\u001b[0m\u001b[0m\n",
            "\u001b[0;31mTypeError\u001b[0m: 'regex' must be a string or a compiled regular expression or a list or dict of strings or regular expressions, you passed a 'bool'"
          ]
        }
      ]
    },
    {
      "cell_type": "code",
      "source": [
        "def faktorial(n):\n",
        "    if n == 0:\n",
        "        return 1\n",
        "    else:\n",
        "        return n * faktorial(n - 1)\n",
        "\n",
        "# Memanggil fungsi rekursif\n",
        "print(faktorial(5))  # Output: 120\n"
      ],
      "metadata": {
        "colab": {
          "base_uri": "https://localhost:8080/"
        },
        "id": "ROTWCTNPxYNQ",
        "outputId": "fe01b6db-a927-47fc-fa6c-fa8855e9218f"
      },
      "execution_count": 48,
      "outputs": [
        {
          "output_type": "stream",
          "name": "stdout",
          "text": [
            "120\n"
          ]
        }
      ]
    },
    {
      "cell_type": "code",
      "source": [
        "numbers = [1, 2, 3, 4, 5]\n",
        "squared_numbers = [num ** 2 for num in numbers]\n",
        "print(squared_numbers)  # Output: [1, 4, 9, 16, 25]\n"
      ],
      "metadata": {
        "colab": {
          "base_uri": "https://localhost:8080/"
        },
        "id": "btnmkkAGxc4M",
        "outputId": "7e47528b-2eff-4bff-a89f-f571d35e54e4"
      },
      "execution_count": 49,
      "outputs": [
        {
          "output_type": "stream",
          "name": "stdout",
          "text": [
            "[1, 4, 9, 16, 25]\n"
          ]
        }
      ]
    },
    {
      "cell_type": "code",
      "source": [
        "numbers = [1, 2, 3, 4, 5, 6]\n",
        "even_squared = [num ** 2 for num in numbers if num % 2 == 0]\n",
        "print(even_squared)  # Output: [4, 16, 36]\n"
      ],
      "metadata": {
        "colab": {
          "base_uri": "https://localhost:8080/"
        },
        "id": "Mvwz3X_txfCG",
        "outputId": "e0aefc00-096b-4a07-ac2b-88df04a63644"
      },
      "execution_count": 50,
      "outputs": [
        {
          "output_type": "stream",
          "name": "stdout",
          "text": [
            "[4, 16, 36]\n"
          ]
        }
      ]
    },
    {
      "cell_type": "code",
      "source": [
        "import pandas as pd\n",
        "\n",
        "# Membuat DataFrame sederhana\n",
        "data = {'Nama': ['John', 'Jane', 'Tom', 'Alice']}\n",
        "df = pd.DataFrame(data)\n",
        "\n",
        "# Menggunakan list comprehension untuk mengubah nama menjadi huruf kapital\n",
        "df['Nama'] = [name.upper() for name in df['Nama']]\n",
        "print(df)\n"
      ],
      "metadata": {
        "colab": {
          "base_uri": "https://localhost:8080/"
        },
        "id": "G3XbS8FaxhR2",
        "outputId": "1e30667e-b278-4e69-94ef-6132f421dee4"
      },
      "execution_count": 51,
      "outputs": [
        {
          "output_type": "stream",
          "name": "stdout",
          "text": [
            "    Nama\n",
            "0   JOHN\n",
            "1   JANE\n",
            "2    TOM\n",
            "3  ALICE\n"
          ]
        }
      ]
    },
    {
      "cell_type": "code",
      "source": [
        "# Fungsi lambda untuk menjumlahkan dua angka\n",
        "add = lambda x, y: x + y\n",
        "print(add(3, 5))  # Output: 8\n"
      ],
      "metadata": {
        "colab": {
          "base_uri": "https://localhost:8080/"
        },
        "id": "TR_SuyoExnoI",
        "outputId": "22c8cca7-9759-4b16-b8fa-70c545eff598"
      },
      "execution_count": 52,
      "outputs": [
        {
          "output_type": "stream",
          "name": "stdout",
          "text": [
            "8\n"
          ]
        }
      ]
    },
    {
      "cell_type": "code",
      "source": [
        "numbers = [1, 2, 3, 4, 5]\n",
        "squared_numbers = list(map(lambda x: x ** 2, numbers))\n",
        "print(squared_numbers)  # Output: [1, 4, 9, 16, 25]\n"
      ],
      "metadata": {
        "colab": {
          "base_uri": "https://localhost:8080/"
        },
        "id": "RcpsOVcAxqCq",
        "outputId": "eb416b3f-64ce-448e-c817-368c0dd77b50"
      },
      "execution_count": 53,
      "outputs": [
        {
          "output_type": "stream",
          "name": "stdout",
          "text": [
            "[1, 4, 9, 16, 25]\n"
          ]
        }
      ]
    },
    {
      "cell_type": "code",
      "source": [
        "numbers = [1, 2, 3, 4, 5, 6]\n",
        "even_numbers = list(filter(lambda x: x % 2 == 0, numbers))\n",
        "print(even_numbers)  # Output: [2, 4, 6]\n"
      ],
      "metadata": {
        "colab": {
          "base_uri": "https://localhost:8080/"
        },
        "id": "FvwIzIVJxtF3",
        "outputId": "f829faf7-8a87-4e9d-b20c-23794e7fc020"
      },
      "execution_count": 54,
      "outputs": [
        {
          "output_type": "stream",
          "name": "stdout",
          "text": [
            "[2, 4, 6]\n"
          ]
        }
      ]
    },
    {
      "cell_type": "code",
      "source": [
        "names = [\"John\", \"Alice\", \"Bob\", \"Tom\"]\n",
        "sorted_names = sorted(names, key=lambda name: len(name))\n",
        "print(sorted_names)  # Output: ['Bob', 'Tom', 'John', 'Alice']\n"
      ],
      "metadata": {
        "colab": {
          "base_uri": "https://localhost:8080/"
        },
        "id": "z0jFBh_jxv-b",
        "outputId": "05a796fb-e646-4985-f393-eeaa7146eba7"
      },
      "execution_count": 55,
      "outputs": [
        {
          "output_type": "stream",
          "name": "stdout",
          "text": [
            "['Bob', 'Tom', 'John', 'Alice']\n"
          ]
        }
      ]
    },
    {
      "cell_type": "code",
      "source": [
        "import pandas as pd\n",
        "\n",
        "# Membuat DataFrame\n",
        "data = {'Nama': ['John', 'Jane', 'Tom', 'Alice'],\n",
        "        'Usia': [28, 34, 25, 40]}\n",
        "df = pd.DataFrame(data)\n",
        "\n",
        "# Menggunakan list comprehension untuk menambahkan kolom baru\n",
        "df['Usia_Tahun_Depan'] = [age + 1 for age in df['Usia']]\n",
        "\n",
        "# Menggunakan lambda dengan apply() untuk menghitung panjang nama\n",
        "df['Panjang_Nama'] = df['Nama'].apply(lambda name: len(name))\n",
        "\n",
        "print(df)\n"
      ],
      "metadata": {
        "colab": {
          "base_uri": "https://localhost:8080/"
        },
        "id": "FzGHLX61xysT",
        "outputId": "8c20c490-abe5-4023-f70c-0a84328627f6"
      },
      "execution_count": 56,
      "outputs": [
        {
          "output_type": "stream",
          "name": "stdout",
          "text": [
            "    Nama  Usia  Usia_Tahun_Depan  Panjang_Nama\n",
            "0   John    28                29             4\n",
            "1   Jane    34                35             4\n",
            "2    Tom    25                26             3\n",
            "3  Alice    40                41             5\n"
          ]
        }
      ]
    }
  ]
}