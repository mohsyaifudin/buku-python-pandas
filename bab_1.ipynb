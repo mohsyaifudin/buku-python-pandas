{
  "nbformat": 4,
  "nbformat_minor": 0,
  "metadata": {
    "colab": {
      "provenance": []
    },
    "kernelspec": {
      "name": "python3",
      "display_name": "Python 3"
    },
    "language_info": {
      "name": "python"
    }
  },
  "cells": [
    {
      "cell_type": "code",
      "source": [
        "import pandas as pd\n"
      ],
      "metadata": {
        "id": "bT6hL_Vrrs3X"
      },
      "execution_count": null,
      "outputs": []
    },
    {
      "cell_type": "code",
      "source": [
        "import pandas as pd\n",
        "\n",
        "# Membuat DataFrame sederhana\n",
        "data = {'Nama': ['John', 'Jane', 'Tom'],\n",
        "        'Usia': [28, 34, 29]}\n",
        "df = pd.DataFrame(data)\n",
        "\n",
        "# Menampilkan DataFrame\n",
        "df\n"
      ],
      "metadata": {
        "id": "X3Lw9oVWr7nn"
      },
      "execution_count": null,
      "outputs": []
    },
    {
      "cell_type": "code",
      "source": [
        "import pandas as pd\n",
        "\n",
        "# Membuat DataFrame sederhana\n",
        "data = {'Nama': ['John', 'Jane', 'Tom'],\n",
        "        'Usia': [28, 34, 29]}\n",
        "df = pd.DataFrame(data)\n",
        "\n",
        "# Menampilkan DataFrame\n",
        "df\n"
      ],
      "metadata": {
        "id": "BpFJnzqBr_c6"
      },
      "execution_count": null,
      "outputs": []
    },
    {
      "cell_type": "code",
      "source": [
        "import pandas as pd\n",
        "\n",
        "# Membuat DataFrame sederhana\n",
        "data = {'Nama': ['Alice', 'Bob', 'Charlie'],\n",
        "        'Usia': [25, 30, 35]}\n",
        "df = pd.DataFrame(data)\n",
        "\n",
        "# Menampilkan DataFrame\n",
        "df\n"
      ],
      "metadata": {
        "id": "XhQ0YrW5sEfB"
      },
      "execution_count": null,
      "outputs": []
    },
    {
      "cell_type": "code",
      "source": [
        "from google.colab import drive\n",
        "drive.mount('/content/drive')\n"
      ],
      "metadata": {
        "id": "GgDUUk0tsH95"
      },
      "execution_count": null,
      "outputs": []
    }
  ]
}